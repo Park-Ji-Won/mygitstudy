{
 "cells": [
  {
   "cell_type": "code",
   "execution_count": null,
   "id": "5f62818a",
   "metadata": {},
   "outputs": [
    {
     "name": "stdout",
     "output_type": "stream",
     "text": [
      "{'KRW': 1, 'AED': 0.002635, 'AFN': 0.04889, 'ALL': 0.05886, 'AMD': 0.2746, 'ANG': 0.001284, 'AOA': 0.6701, 'ARS': 0.9717, 'AUD': 0.001087, 'AWG': 0.001284, 'AZN': 0.001219, 'BAM': 0.001189, 'BBD': 0.001435, 'BDT': 0.0872, 'BGN': 0.001189, 'BHD': 0.00026981, 'BIF': 2.1373, 'BMD': 0.00071758, 'BND': 0.00092059, 'BOB': 0.004964, 'BRL': 0.003826, 'BSD': 0.00071758, 'BTN': 0.06374, 'BWP': 0.009918, 'BYN': 0.002325, 'BZD': 0.001435, 'CAD': 0.00099179, 'CDF': 2.0374, 'CHF': 0.00056798, 'CLP': 0.685, 'CNY': 0.0051, 'COP': 2.7613, 'CRC': 0.3616, 'CUP': 0.01722, 'CVE': 0.06701, 'CZK': 0.01473, 'DJF': 0.1275, 'DKK': 0.004532, 'DOP': 0.04436, 'DZD': 0.09285, 'EGP': 0.03452, 'ERN': 0.01076, 'ETB': 0.1048, 'EUR': 0.00060756, 'FJD': 0.001614, 'FKP': 0.00053075, 'FOK': 0.004533, 'GBP': 0.0005306, 'GEL': 0.001948, 'GGP': 0.00053075, 'GHS': 0.009099, 'GIP': 0.00053075, 'GMD': 0.05255, 'GNF': 6.2232, 'GTQ': 0.00549, 'GYD': 0.1497, 'HKD': 0.005575, 'HNL': 0.01879, 'HRK': 0.004579, 'HTG': 0.0936, 'HUF': 0.2365, 'IDR': 11.9583, 'ILS': 0.0024, 'IMP': 0.00053075, 'INR': 0.06372, 'IQD': 0.9356, 'IRR': 30.568, 'ISK': 0.0867, 'JEP': 0.00053075, 'JMD': 0.1149, 'JOD': 0.00050877, 'JPY': 0.1059, 'KES': 0.09264, 'KGS': 0.06262, 'KHR': 2.8684, 'KID': 0.001087, 'KMF': 0.299, 'KWD': 0.00021706, 'KYD': 0.00059798, 'KZT': 0.3905, 'LAK': 15.5589, 'LBP': 64.2235, 'LKR': 0.2164, 'LRD': 0.128, 'LSL': 0.0124, 'LYD': 0.003867, 'MAD': 0.006476, 'MDL': 0.01193, 'MGA': 3.1594, 'MKD': 0.03757, 'MMK': 1.5052, 'MNT': 2.5642, 'MOP': 0.005744, 'MRU': 0.02863, 'MUR': 0.0329, 'MVR': 0.01106, 'MWK': 1.2478, 'MXN': 0.01315, 'MYR': 0.003011, 'MZN': 0.04577, 'NAD': 0.0124, 'NGN': 1.0667, 'NIO': 0.02636, 'NOK': 0.007095, 'NPR': 0.102, 'NZD': 0.001224, 'OMR': 0.00027591, 'PAB': 0.00071758, 'PEN': 0.00251, 'PGK': 0.003015, 'PHP': 0.04112, 'PKR': 0.2031, 'PLN': 0.002586, 'PYG': 5.094, 'QAR': 0.002612, 'RON': 0.003088, 'RSD': 0.07119, 'RUB': 0.05997, 'RWF': 1.0411, 'SAR': 0.002691, 'SBD': 0.005999, 'SCR': 0.01065, 'SDG': 0.3196, 'SEK': 0.006689, 'SGD': 0.00092033, 'SHP': 0.00053075, 'SLE': 0.01669, 'SLL': 16.6971, 'SOS': 0.409, 'SRD': 0.02729, 'SSP': 3.388, 'STN': 0.01489, 'SYP': 9.383, 'SZL': 0.0124, 'THB': 0.02284, 'TJS': 0.006757, 'TMT': 0.002511, 'TND': 0.002076, 'TOP': 0.001728, 'TRY': 0.02969, 'TTD': 0.004865, 'TVD': 0.001087, 'TWD': 0.02172, 'TZS': 1.7736, 'UAH': 0.02967, 'UGX': 2.5078, 'USD': 0.00071743, 'UYU': 0.02855, 'UZS': 8.7752, 'VES': 0.1219, 'VND': 18.8965, 'VUV': 0.08575, 'WST': 0.001919, 'XAF': 0.3987, 'XCD': 0.001937, 'XCG': 0.001284, 'XDR': 0.00052148, 'XOF': 0.3987, 'XPF': 0.07252, 'YER': 0.1716, 'ZAR': 0.01242, 'ZMW': 0.01706, 'ZWL': 0.01907}\n"
     ]
    }
   ],
   "source": [
    "import requests\n",
    "import json\n",
    "\n",
    "url=\"https://v6.exchangerate-api.com/v6/1e6d6fa8f50430a6a15b4f76/latest/USD\"\n",
    "r=requests.get(url)\n",
    "dt_dict =r.json()\n",
    "print(dt_dict['conversion_rates'])"
   ]
  },
  {
   "cell_type": "code",
   "execution_count": null,
   "id": "c41a73b6",
   "metadata": {},
   "outputs": [
    {
     "name": "stdout",
     "output_type": "stream",
     "text": [
      "           0\n",
      "JPY  1.00000\n",
      "AED  0.02487\n",
      "AFN  0.46160\n",
      "ALL  0.55590\n",
      "AMD  2.59360\n",
      "..       ...\n",
      "XPF  0.68450\n",
      "YER  1.62050\n",
      "ZAR  0.11690\n",
      "ZMW  0.16110\n",
      "ZWL  0.17990\n",
      "\n",
      "[163 rows x 1 columns]\n"
     ]
    }
   ],
   "source": [
    "import requests\n",
    "import json\n",
    "import pandas as pd\n",
    "\n",
    "url=\"https://v6.exchangerate-api.com/v6/1e6d6fa8f50430a6a15b4f76/latest/USD\"\n",
    "r=requests.get(url)\n",
    "dt_dict =r.json()\n",
    "df = pd.DataFrame.from_dict(dt_dict['conversion_rates'], orient='index')\n",
    "print(df)"
   ]
  },
  {
   "cell_type": "code",
   "execution_count": 9,
   "id": "13ea9c60",
   "metadata": {},
   "outputs": [],
   "source": [
    "import requests\n",
    "import json\n",
    "import pandas as pd\n",
    "\n",
    "url=\"https://v6.exchangerate-api.com/v6/1e6d6fa8f50430a6a15b4f76/latest/JPY\"\n",
    "r=requests.get(url)\n",
    "dt_dict =r.json()\n",
    "df=pd.DataFrame.from_dict(dt_dict['conversion_rates'], orient='index')\n",
    "df.to_excel('JPY_exchange.xlsx')"
   ]
  }
 ],
 "metadata": {
  "kernelspec": {
   "display_name": "Python 3",
   "language": "python",
   "name": "python3"
  },
  "language_info": {
   "codemirror_mode": {
    "name": "ipython",
    "version": 3
   },
   "file_extension": ".py",
   "mimetype": "text/x-python",
   "name": "python",
   "nbconvert_exporter": "python",
   "pygments_lexer": "ipython3",
   "version": "3.13.5"
  }
 },
 "nbformat": 4,
 "nbformat_minor": 5
}
