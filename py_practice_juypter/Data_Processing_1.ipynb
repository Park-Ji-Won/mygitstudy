{
 "cells": [
  {
   "cell_type": "code",
   "execution_count": null,
   "id": "5f62818a",
   "metadata": {},
   "outputs": [],
   "source": [
    "import requests\n",
    "import json\n",
    "\n",
    "url=\"https://v6.exchangerate-api.com/v6/1e6d6fa8f50430a6a15b4f76/latest/USD\"\n",
    "r=requests.get(url)\n",
    "dt_dict =r.json()\n",
    "print(dt_dict['conversion_rates'])"
   ]
  },
  {
   "cell_type": "code",
   "execution_count": null,
   "id": "c41a73b6",
   "metadata": {},
   "outputs": [],
   "source": [
    "import requests\n",
    "import json\n",
    "import pandas as pd\n",
    "\n",
    "url=\"https://v6.exchangerate-api.com/v6/1e6d6fa8f50430a6a15b4f76/latest/USD\"\n",
    "r=requests.get(url)\n",
    "dt_dict =r.json()\n",
    "df = pd.DataFrame.from_dict(dt_dict['conversion_rates'], orient='index')\n",
    "print(df)"
   ]
  },
  {
   "cell_type": "code",
   "execution_count": null,
   "id": "13ea9c60",
   "metadata": {},
   "outputs": [],
   "source": [
    "import requests\n",
    "import json\n",
    "import pandas as pd\n",
    "\n",
    "url=\"https://v6.exchangerate-api.com/v6/1e6d6fa8f50430a6a15b4f76/latest/JPY\"\n",
    "r=requests.get(url)\n",
    "dt_dict =r.json()\n",
    "df=pd.DataFrame.from_dict(dt_dict['conversion_rates'], orient='index')\n",
    "df.to_excel('JPY_exchange.xlsx')"
   ]
  }
 ],
 "metadata": {
  "kernelspec": {
   "display_name": "Python 3",
   "language": "python",
   "name": "python3"
  },
  "language_info": {
   "codemirror_mode": {
    "name": "ipython",
    "version": 3
   },
   "file_extension": ".py",
   "mimetype": "text/x-python",
   "name": "python",
   "nbconvert_exporter": "python",
   "pygments_lexer": "ipython3",
   "version": "3.13.5"
  }
 },
 "nbformat": 4,
 "nbformat_minor": 5
}
